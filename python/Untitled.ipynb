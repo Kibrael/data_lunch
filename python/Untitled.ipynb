{
 "cells": [
  {
   "cell_type": "code",
   "execution_count": 28,
   "metadata": {
    "collapsed": false
   },
   "outputs": [],
   "source": [
    "import random\n",
    "import matplotlib\n",
    "import matplotlib.pyplot as plt\n",
    "import matplotlib.patches as mpatches\n",
    "import numpy as np\n",
    "import pandas as pd\n",
    "get_ipython().magic(u'matplotlib inline')\n",
    "matplotlib.style.use('ggplot')"
   ]
  },
  {
   "cell_type": "code",
   "execution_count": 44,
   "metadata": {
    "collapsed": false
   },
   "outputs": [],
   "source": [
    "\n",
    "for i in range(10):\n",
    "    roll_list = []\n",
    "    roll_list.append(random.randrange(20)+1)\n",
    "    roll_list.append(random.randrange(20)+1)\n",
    "    roll_list.sort()\n",
    "#    print(max(roll_list))"
   ]
  },
  {
   "cell_type": "code",
   "execution_count": null,
   "metadata": {
    "collapsed": false
   },
   "outputs": [],
   "source": []
  },
  {
   "cell_type": "code",
   "execution_count": 3,
   "metadata": {
    "collapsed": true
   },
   "outputs": [],
   "source": [
    "def return_rolls(die_size=20, num_dice=2):\n",
    "    \"\"\"returns a sorted list of the number of dice rolled\"\"\"\n",
    "    roll_list = []\n",
    "    for die in range(num_dice):\n",
    "        roll_list.append(random.randrange(die_size)+1)\n",
    "    return roll_list\n",
    "\n",
    "    "
   ]
  },
  {
   "cell_type": "code",
   "execution_count": 7,
   "metadata": {
    "collapsed": false
   },
   "outputs": [],
   "source": [
    "sample_advantage = []\n",
    "sample_normal = []\n",
    "for i in range(100):\n",
    "    \n",
    "    sample_advantage.append(max(return_rolls()))\n",
    "    sample_normal.append(max(return_rolls(num_dice=1)))\n",
    "    \n"
   ]
  },
  {
   "cell_type": "code",
   "execution_count": 41,
   "metadata": {
    "collapsed": false
   },
   "outputs": [
    {
     "name": "stdout",
     "output_type": "stream",
     "text": [
      "roll    13.22\n",
      "dtype: float64 avg_roll with advantage\n",
      "roll    9.13\n",
      "dtype: float64 avg_roll normal\n",
      "   roll\n",
      "0     4\n",
      "1     3\n",
      "2     9\n",
      "3     2\n",
      "4     4\n"
     ]
    }
   ],
   "source": [
    "#print(sample_advantage)\n",
    "#print(sample_normal)\n",
    "sample_advantage = pd.DataFrame(sample_advantage)\n",
    "sample_advantage.rename(columns={0:'roll'}, inplace=True)\n",
    "sample_normal = pd.DataFrame(sample_normal)\n",
    "sample_normal.rename(columns={0:'roll'}, inplace=True)\n",
    "print(sample_advantage.sum() / len(sample_advantage), \"avg_roll with advantage\")\n",
    "print(sample_normal.sum() / len(sample_normal), \"avg_roll normal\")\n",
    "print(sample_normal.head())"
   ]
  },
  {
   "cell_type": "code",
   "execution_count": 6,
   "metadata": {
    "collapsed": false
   },
   "outputs": [
    {
     "ename": "NameError",
     "evalue": "name 'bank_df' is not defined",
     "output_type": "error",
     "traceback": [
      "\u001b[0;31m---------------------------------------------------------------------------\u001b[0m",
      "\u001b[0;31mNameError\u001b[0m                                 Traceback (most recent call last)",
      "\u001b[0;32m<ipython-input-6-66889103ed99>\u001b[0m in \u001b[0;36m<module>\u001b[0;34m()\u001b[0m\n\u001b[0;32m----> 1\u001b[0;31m \u001b[0mamt\u001b[0m \u001b[0;34m=\u001b[0m \u001b[0mbank_df\u001b[0m\u001b[0;34m.\u001b[0m\u001b[0mamount\u001b[0m \u001b[0;31m#get data as series for graphing\u001b[0m\u001b[0;34m\u001b[0m\u001b[0m\n\u001b[0m\u001b[1;32m      2\u001b[0m \u001b[0minc\u001b[0m \u001b[0;34m=\u001b[0m \u001b[0mbank_df\u001b[0m\u001b[0;34m.\u001b[0m\u001b[0mincome\u001b[0m \u001b[0;31m#get data as series for graphing\u001b[0m\u001b[0;34m\u001b[0m\u001b[0m\n\u001b[1;32m      3\u001b[0m \u001b[0mbins\u001b[0m \u001b[0;34m=\u001b[0m \u001b[0mnp\u001b[0m\u001b[0;34m.\u001b[0m\u001b[0mlinspace\u001b[0m\u001b[0;34m(\u001b[0m\u001b[0;36m0\u001b[0m\u001b[0;34m,\u001b[0m\u001b[0;36m4000\u001b[0m\u001b[0;34m,\u001b[0m \u001b[0;36m1000\u001b[0m\u001b[0;34m)\u001b[0m \u001b[0;31m#set ranges and number of bins\u001b[0m\u001b[0;34m\u001b[0m\u001b[0m\n\u001b[1;32m      4\u001b[0m \u001b[0mbank_viz\u001b[0m \u001b[0;34m=\u001b[0m \u001b[0mplt\u001b[0m\u001b[0;34m.\u001b[0m\u001b[0mfigure\u001b[0m\u001b[0;34m(\u001b[0m\u001b[0mfigsize\u001b[0m\u001b[0;34m=\u001b[0m\u001b[0;34m(\u001b[0m\u001b[0;36m12\u001b[0m\u001b[0;34m,\u001b[0m\u001b[0;36m10\u001b[0m\u001b[0;34m)\u001b[0m\u001b[0;34m)\u001b[0m \u001b[0;31m#set plot size\u001b[0m\u001b[0;34m\u001b[0m\u001b[0m\n\u001b[1;32m      5\u001b[0m \u001b[0mplt\u001b[0m\u001b[0;34m.\u001b[0m\u001b[0mhist\u001b[0m\u001b[0;34m(\u001b[0m\u001b[0minc\u001b[0m\u001b[0;34m,\u001b[0m \u001b[0mbins\u001b[0m\u001b[0;34m,\u001b[0m \u001b[0mlabel\u001b[0m\u001b[0;34m=\u001b[0m\u001b[0;34m'income'\u001b[0m\u001b[0;34m,\u001b[0m \u001b[0malpha\u001b[0m\u001b[0;34m=\u001b[0m\u001b[0;36m1\u001b[0m\u001b[0;34m)\u001b[0m \u001b[0;31m#plot histogram of income\u001b[0m\u001b[0;34m\u001b[0m\u001b[0m\n",
      "\u001b[0;31mNameError\u001b[0m: name 'bank_df' is not defined"
     ]
    }
   ],
   "source": [
    "amt = bank_df.amount #get data as series for graphing\n",
    "inc = bank_df.income #get data as series for graphing\n",
    "bins = np.linspace(0,4000, 1000) #set ranges and number of bins\n",
    "bank_viz = plt.figure(figsize=(12,10)) #set plot size\n",
    "plt.hist(inc, bins, label='income', alpha=1) #plot histogram of income\n",
    "plt.hist(amt, bins, label='amount', alpha=.5) #plot histogram of loan amount\n",
    "plt.legend(loc='upper right') #turn on legend and set location\n",
    "plt.title('initial income and loan amount distributions')\n",
    "plt.xlabel('income and loan amount')\n",
    "plt.ylabel('frequency count')\n",
    "plt.show()\n",
    "#FIXME add 2 box plot viz"
   ]
  },
  {
   "cell_type": "code",
   "execution_count": 42,
   "metadata": {
    "collapsed": false
   },
   "outputs": [
    {
     "data": {
      "image/png": "[encoded data removed]",
      "text/plain": [
       "<matplotlib.figure.Figure at 0x10e7553c8>"
      ]
     },
     "metadata": {},
     "output_type": "display_data"
    }
   ],
   "source": [
    "\n",
    "y = sample_advantage.roll\n",
    "bins = np.linspace(1, 20, 1)\n",
    "prob_graph = plt.figure(figsize=(7,7))\n",
    "plt.hist(y, bins, label='dice')\n",
    "plt.show()"
   ]
  },
  {
   "cell_type": "code",
   "execution_count": 43,
   "metadata": {
    "collapsed": false
   },
   "outputs": [
    {
     "data": {
      "text/plain": [
       "<matplotlib.axes._subplots.AxesSubplot at 0x1152339e8>"
      ]
     },
     "execution_count": 43,
     "metadata": {},
     "output_type": "execute_result"
    },
    {
     "data": {
      "image/png": "[encoded data removed]",
      "text/plain": [
       "<matplotlib.figure.Figure at 0x10e811828>"
      ]
     },
     "metadata": {},
     "output_type": "display_data"
    }
   ],
   "source": [
    "y.plot()"
   ]
  },
  {
   "cell_type": "code",
   "execution_count": 51,
   "metadata": {
    "collapsed": false
   },
   "outputs": [
    {
     "name": "stdout",
     "output_type": "stream",
     "text": [
      "    roll\n",
      "0      9\n",
      "1      6\n",
      "2      9\n",
      "3     19\n",
      "4     11\n",
      "5     14\n",
      "6      4\n",
      "7     15\n",
      "8     15\n",
      "9     18\n",
      "10     1\n",
      "11    14\n",
      "12    15\n",
      "13     8\n",
      "14    18\n",
      "15    10\n",
      "16     5\n",
      "17    18\n",
      "18    15\n",
      "19    17\n",
      "20    17\n",
      "21    14\n",
      "22    14\n",
      "23     2\n",
      "24    14\n",
      "25    16\n",
      "26    18\n",
      "27    20\n",
      "28    18\n",
      "29    20\n",
      "..   ...\n",
      "47    10\n",
      "48     7\n",
      "49     8\n",
      "51    10\n",
      "52    13\n",
      "54    20\n",
      "55    11\n",
      "57    12\n",
      "58    13\n",
      "59    13\n",
      "61    20\n",
      "62     5\n",
      "63    12\n",
      "69     9\n",
      "70    12\n",
      "71    17\n",
      "72     9\n",
      "73    17\n",
      "74     5\n",
      "77     3\n",
      "79     3\n",
      "80     4\n",
      "81     8\n",
      "86    16\n",
      "87    13\n",
      "91     5\n",
      "94    10\n",
      "96    11\n",
      "97    10\n",
      "98     8\n",
      "\n",
      "[76 rows x 1 columns]\n"
     ]
    }
   ],
   "source": [
    "print(sample_advantage.groupby('roll').head())"
   ]
  },
  {
   "cell_type": "code",
   "execution_count": 48,
   "metadata": {
    "collapsed": false
   },
   "outputs": [
    {
     "name": "stdout",
     "output_type": "stream",
     "text": [
      "(1,     roll\n",
      "10     1)\n",
      "(2,     roll\n",
      "23     2)\n",
      "(3,     roll\n",
      "77     3\n",
      "79     3)\n",
      "(4,     roll\n",
      "6      4\n",
      "80     4)\n",
      "(5,     roll\n",
      "16     5\n",
      "35     5\n",
      "62     5\n",
      "74     5\n",
      "91     5\n",
      "99     5)\n",
      "(6,     roll\n",
      "1      6\n",
      "42     6)\n",
      "(7,     roll\n",
      "33     7\n",
      "48     7)\n",
      "(8,     roll\n",
      "13     8\n",
      "39     8\n",
      "49     8\n",
      "81     8\n",
      "98     8)\n",
      "(9,     roll\n",
      "0      9\n",
      "2      9\n",
      "69     9\n",
      "72     9)\n",
      "(10,     roll\n",
      "15    10\n",
      "47    10\n",
      "51    10\n",
      "94    10\n",
      "97    10)\n",
      "(11,     roll\n",
      "4     11\n",
      "43    11\n",
      "55    11\n",
      "96    11)\n",
      "(12,     roll\n",
      "57    12\n",
      "63    12\n",
      "70    12)\n",
      "(13,     roll\n",
      "37    13\n",
      "52    13\n",
      "58    13\n",
      "59    13\n",
      "87    13\n",
      "90    13\n",
      "93    13)\n",
      "(14,     roll\n",
      "5     14\n",
      "11    14\n",
      "21    14\n",
      "22    14\n",
      "24    14\n",
      "56    14\n",
      "60    14\n",
      "82    14)\n",
      "(15,     roll\n",
      "7     15\n",
      "8     15\n",
      "12    15\n",
      "18    15\n",
      "38    15\n",
      "41    15\n",
      "50    15\n",
      "67    15\n",
      "89    15)\n",
      "(16,     roll\n",
      "25    16\n",
      "30    16\n",
      "31    16\n",
      "40    16\n",
      "86    16\n",
      "88    16)\n",
      "(17,     roll\n",
      "19    17\n",
      "20    17\n",
      "32    17\n",
      "71    17\n",
      "73    17\n",
      "78    17\n",
      "95    17)\n",
      "(18,     roll\n",
      "9     18\n",
      "14    18\n",
      "17    18\n",
      "26    18\n",
      "28    18\n",
      "53    18\n",
      "65    18\n",
      "75    18\n",
      "83    18\n",
      "84    18\n",
      "92    18)\n",
      "(19,     roll\n",
      "3     19\n",
      "34    19\n",
      "36    19\n",
      "45    19\n",
      "46    19\n",
      "64    19\n",
      "76    19\n",
      "85    19)\n",
      "(20,     roll\n",
      "27    20\n",
      "29    20\n",
      "44    20\n",
      "54    20\n",
      "61    20\n",
      "66    20\n",
      "68    20)\n"
     ]
    }
   ],
   "source": [
    "for item in sample_advantage.groupby('roll'):\n",
    "    print(item)"
   ]
  },
  {
   "cell_type": "code",
   "execution_count": null,
   "metadata": {
    "collapsed": true
   },
   "outputs": [],
   "source": []
  }
 ],
 "metadata": {
  "kernelspec": {
   "display_name": "Python 3",
   "language": "python",
   "name": "python3"
  },
  "language_info": {
   "codemirror_mode": {
    "name": "ipython",
    "version": 3
   },
   "file_extension": ".py",
   "mimetype": "text/x-python",
   "name": "python",
   "nbconvert_exporter": "python",
   "pygments_lexer": "ipython3",
   "version": "3.5.1"
  }
 },
 "nbformat": 4,
 "nbformat_minor": 0
}
